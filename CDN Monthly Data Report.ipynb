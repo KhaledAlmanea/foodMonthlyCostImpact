{
 "cells": [
  {
   "cell_type": "markdown",
   "metadata": {},
   "source": [
    "# CDN Analysis Test for FEB 2021 DATA"
   ]
  },
  {
   "cell_type": "markdown",
   "metadata": {},
   "source": [
    "# Introduction:"
   ]
  },
  {
   "cell_type": "markdown",
   "metadata": {},
   "source": [
    "1.\tWhat is the Cost per Passenger(CPP)?\n",
    "2.\tWhat is the total pax?\n",
    "<br>    Answered\n",
    "3.\tWhat is the number of pax for each class?\n",
    "<br>    Answered\n",
    "4.\tWhat is the total expenses?\n",
    "<br>    Answered\n",
    "5.\tWhat is the total expenses per class?\n",
    "<br>   Answered\n",
    "6.\tWhat is the total load factor?\n",
    "<br>    Answered\n",
    "7.\t What is the load factor per class? \n",
    "<br>    Answered\n",
    "8.\tWhich station has the highest number of pax?\n",
    "9.\tWhich station has the highest total price compared to unit price?\n",
    "10.\tWhich station has the lowest number of pax compared to capacity?\n",
    "11.\tWhat is the number of pax in relation to time-of-flight date and hour?\n",
    "12.\tWhat is the impact of monthly changes?\n",
    "13.\tWhat are the top 10 highest volume items? \n",
    "14.\tWhat are the top 10 highest expense items?\n",
    "15.\tWhat are the top 5 highest passenger count sectors?\n",
    "16.\tWhat is the highest order volume based on time?\n",
    "17.\tWhat is the correlation/impact of the load factor on cpp?\n",
    "18.\tWhat is the handling charge per route?\n",
    "<br>    Answered\n",
    "19.\tHow does the seasonally impact on cpp?\n",
    "20.\tWhat is the DOM cpp by menu cycle?\n",
    "21.\tSACC station ordered by volume and expenses?\n",
    "22. what is the total handling charges?\n",
    "<br>    Answered\n",
    "23. what is the handling charges per Air Carft?\n",
    "24. What are the monthly changes and their impact?"
   ]
  },
  {
   "cell_type": "markdown",
   "metadata": {},
   "source": [
    "## Data Cleaning:"
   ]
  },
  {
   "cell_type": "code",
   "execution_count": 1,
   "metadata": {},
   "outputs": [],
   "source": [
    "import pandas as pd\n",
    "import numpy as np\n",
    "import matplotlib.pyplot as plt\n",
    "import datetime as dt\n",
    "%matplotlib inline"
   ]
  },
  {
   "cell_type": "code",
   "execution_count": 2,
   "metadata": {},
   "outputs": [],
   "source": [
    "pd.set_option('display.max_rows', None)\n",
    "pd.set_option('display.max_columns', None)\n",
    "pd.set_option('display.width', None)\n",
    "pd.set_option('display.max_colwidth', None)"
   ]
  },
  {
   "cell_type": "code",
   "execution_count": null,
   "metadata": {
    "scrolled": true
   },
   "outputs": [],
   "source": [
    "# Initiate Data Frame for the current month and previous month\n",
    "df = pd.read_excel(\"AVIF Feb 2021.xlsb\", engine='pyxlsb')\n",
    "df_p = pd.read_excel(\"AVIF Jan 2021.xlsb\", engine='pyxlsb')"
   ]
  },
  {
   "cell_type": "code",
   "execution_count": null,
   "metadata": {},
   "outputs": [],
   "source": [
    "del_col = ['MAIN_SBD_CODE', 'AIRCRAFT_TYPE', 'TOP5', 'ROUTE_TYPE', 'CUST_NO', 'ROUTE', 'LEGNO', 'SR_FLT_NO', 'SR_SUFFIX', 'SR_FROM_CITY', 'SR_TO_CITY', 'SERVICE_NO', 'FPM_CODE', 'MENU_CODE', 'MENU_DESC', 'QTY', 'VAT_PRICE', 'MENU_CYCLE']\n",
    "df.drop(del_col,axis=1, inplace=True)\n",
    "df_p.drop(del_col,axis=1, inplace=True)"
   ]
  },
  {
   "cell_type": "code",
   "execution_count": null,
   "metadata": {},
   "outputs": [],
   "source": [
    "# print first 5 rows of data\n",
    "df.head()"
   ]
  },
  {
   "cell_type": "code",
   "execution_count": null,
   "metadata": {},
   "outputs": [],
   "source": [
    "df_p.head()"
   ]
  },
  {
   "cell_type": "code",
   "execution_count": null,
   "metadata": {},
   "outputs": [],
   "source": [
    "# drop international flights colunn\n",
    "df_p.drop(df_p[df_p['TYPE_CODE'] == 'C1'].index, inplace=True)\n",
    "df.drop(df[df['TYPE_CODE'] == 'C1'].index, inplace=True)"
   ]
  },
  {
   "cell_type": "code",
   "execution_count": null,
   "metadata": {},
   "outputs": [],
   "source": [
    "# drop the not related class values to the passenger count\n",
    "df.drop(df[df.CLASS_CODE.isin(['CA', 'CO', 'CP', 'PX', 'PXC','SM'])].index, inplace=True)\n",
    "df_p.drop(df_p[df_p.CLASS_CODE.isin(['CA', 'CO', 'CP', 'PX', 'PXC','SM'])].index, inplace=True)"
   ]
  },
  {
   "cell_type": "code",
   "execution_count": null,
   "metadata": {},
   "outputs": [],
   "source": [
    "# drop rows with item descreption equals to LAVATORY DISINFECTANT 750ML (SV) \n",
    "df_p.drop(df_p[df_p['ITEM_DESCRIPTION'] == 'LAVATORY DISINFECTANT 750ML (SV)'].index, inplace=True)\n",
    "df.drop(df[df['ITEM_DESCRIPTION'] == 'LAVATORY DISINFECTANT 750ML (SV)'].index, inplace=True)"
   ]
  },
  {
   "cell_type": "code",
   "execution_count": null,
   "metadata": {},
   "outputs": [],
   "source": [
    "# Convert the date to datetime64\n",
    "df_p['DBL_DATE'] = pd.to_datetime(df_p['DBL_DATE'] - 25569, unit = 'D')"
   ]
  },
  {
   "cell_type": "code",
   "execution_count": null,
   "metadata": {},
   "outputs": [],
   "source": [
    "df['DBL_DATE']  = pd.to_datetime(df['DBL_DATE'] - 25569, unit = 'D')"
   ]
  },
  {
   "cell_type": "code",
   "execution_count": null,
   "metadata": {},
   "outputs": [],
   "source": [
    "df.info()"
   ]
  },
  {
   "cell_type": "code",
   "execution_count": null,
   "metadata": {},
   "outputs": [],
   "source": [
    "df_p.info()"
   ]
  },
  {
   "cell_type": "code",
   "execution_count": null,
   "metadata": {},
   "outputs": [],
   "source": [
    "# Convert specs_no to string \n",
    "df_p['SPECS_NO'] = df_p['SPECS_NO'].astype(str)"
   ]
  },
  {
   "cell_type": "code",
   "execution_count": null,
   "metadata": {},
   "outputs": [],
   "source": [
    "df['SPECS_NO'].fillna(0, inplace=True)\n",
    "df['SPECS_NO'] = df['SPECS_NO'].astype('int32')"
   ]
  },
  {
   "cell_type": "code",
   "execution_count": null,
   "metadata": {},
   "outputs": [],
   "source": [
    "df['SPECS_NO'] = df['SPECS_NO'].astype(str)"
   ]
  },
  {
   "cell_type": "code",
   "execution_count": null,
   "metadata": {},
   "outputs": [],
   "source": [
    "# Convert price to integer \n",
    "df_p['PRICE'] = df_p['PRICE'].astype(int)\n",
    "df['PRICE'] = df['PRICE'].astype(int)"
   ]
  },
  {
   "cell_type": "code",
   "execution_count": null,
   "metadata": {},
   "outputs": [],
   "source": [
    "# change numerical columns to int32 and float32 to reduce memory usage \n",
    "df['NO_PAX'] = df['NO_PAX'].astype('int32')\n",
    "df_p['NO_PAX'] = df_p['NO_PAX'].astype('int32')\n",
    "\n",
    "df['CAPACITY'] = df['CAPACITY'].astype('int32')\n",
    "df_p['CAPACITY'] = df_p['CAPACITY'].astype('int32')\n",
    "\n",
    "df['UNIT_PRICE'] = df['UNIT_PRICE'].astype('float32')\n",
    "df_p['UNIT_PRICE'] = df_p['UNIT_PRICE'].astype('float32')"
   ]
  },
  {
   "cell_type": "code",
   "execution_count": null,
   "metadata": {},
   "outputs": [],
   "source": [
    "# Change CDN_NO to String\n",
    "df['CDN_NO'] = df['CDN_NO'].astype(str)\n",
    "df_p['CDN_NO'] = df_p['CDN_NO'].astype(str)"
   ]
  },
  {
   "cell_type": "code",
   "execution_count": null,
   "metadata": {},
   "outputs": [],
   "source": [
    "#Check memory usage for df\n",
    "df.info(memory_usage=\"deep\")"
   ]
  },
  {
   "cell_type": "code",
   "execution_count": null,
   "metadata": {},
   "outputs": [],
   "source": [
    "#Check memory usage for df_p\n",
    "df_p.info(memory_usage=\"deep\")"
   ]
  },
  {
   "cell_type": "markdown",
   "metadata": {},
   "source": [
    "### Import and Clean Summer Schedule: "
   ]
  },
  {
   "cell_type": "markdown",
   "metadata": {},
   "source": [
    "This step will help in categorizing flights as per meal policy"
   ]
  },
  {
   "cell_type": "code",
   "execution_count": null,
   "metadata": {},
   "outputs": [],
   "source": [
    "# import the summer schedule to get block time\n",
    "summerSchedule = pd.read_excel('summer_schedule.xlsx')"
   ]
  },
  {
   "cell_type": "code",
   "execution_count": null,
   "metadata": {},
   "outputs": [],
   "source": [
    "# Print first five rows\n",
    "summerSchedule.head()"
   ]
  },
  {
   "cell_type": "code",
   "execution_count": null,
   "metadata": {},
   "outputs": [],
   "source": [
    "# rename sector columns to be aligned with the other dataframe to be joined with \n",
    "summerSchedule.rename(columns={\"Dept Arp\": \"FROM_CITY\", \"Arvl Arp\": \"TO_CITY\"}, inplace=True)"
   ]
  },
  {
   "cell_type": "code",
   "execution_count": null,
   "metadata": {},
   "outputs": [],
   "source": [
    "# drop unused columns\n",
    "summerSchedule = summerSchedule.drop(columns=['Eff Date', 'Dis Date','Freq','Dept Time','Arrv Time','Subfleet', 'Flt Desg'])"
   ]
  },
  {
   "cell_type": "code",
   "execution_count": null,
   "metadata": {},
   "outputs": [],
   "source": [
    "# Print first five rows\n",
    "summerSchedule.head()"
   ]
  },
  {
   "cell_type": "code",
   "execution_count": null,
   "metadata": {},
   "outputs": [],
   "source": [
    "# remove duplicates to ensure merge will become 1:m\n",
    "summerSchedule.drop_duplicates(subset=['FROM_CITY', 'TO_CITY'], inplace=True)"
   ]
  },
  {
   "cell_type": "code",
   "execution_count": null,
   "metadata": {
    "scrolled": false
   },
   "outputs": [],
   "source": [
    "# print new df informations\n",
    "summerSchedule.info()"
   ]
  },
  {
   "cell_type": "code",
   "execution_count": null,
   "metadata": {},
   "outputs": [],
   "source": [
    "#perform the join of the dataframes\n",
    "df = df.merge(summerSchedule, on=['FROM_CITY','TO_CITY'],how = 'inner')\n",
    "df_p = df_p.merge(summerSchedule, on=['FROM_CITY','TO_CITY'],how = 'inner')"
   ]
  },
  {
   "cell_type": "code",
   "execution_count": null,
   "metadata": {},
   "outputs": [],
   "source": [
    "# Convert block time into minutes\n",
    "df_p['Block Time'] =  pd.to_datetime(df_p['Block Time'].astype(str))\n",
    "df['Block Time'] =  pd.to_datetime(df['Block Time'].astype(str))"
   ]
  },
  {
   "cell_type": "code",
   "execution_count": null,
   "metadata": {},
   "outputs": [],
   "source": [
    "df_p['Block Time'] = df_p['Block Time'].dt.hour*60+df_p['Block Time'].dt.minute\n",
    "df['Block Time'] = df['Block Time'].dt.hour*60+df['Block Time'].dt.minute"
   ]
  },
  {
   "cell_type": "markdown",
   "metadata": {},
   "source": [
    "## Create a paxFarme:"
   ]
  },
  {
   "cell_type": "code",
   "execution_count": null,
   "metadata": {},
   "outputs": [],
   "source": [
    "#Create a copy of the main data farme and store it in the variable df_copy\n",
    "df_copy = df.copy()\n",
    "df_p_copy = df_p.copy()"
   ]
  },
  {
   "cell_type": "code",
   "execution_count": null,
   "metadata": {},
   "outputs": [],
   "source": [
    "# make an instance of df_copy and call it paxFrame\n",
    "paxFrame = df_copy[['CDN_NO', 'DBL_DATE', 'FLT_NO', 'TYPE_CODE', 'FROM_CITY', 'TO_CITY', 'CAPACITY', 'NO_PAX', 'CLASS_CODE', 'Block Time']]\n",
    "paxFrameP = df_p_copy[['CDN_NO', 'DBL_DATE', 'FLT_NO', 'TYPE_CODE', 'FROM_CITY', 'TO_CITY', 'CAPACITY', 'NO_PAX', 'CLASS_CODE', 'Block Time']]"
   ]
  },
  {
   "cell_type": "code",
   "execution_count": null,
   "metadata": {},
   "outputs": [],
   "source": [
    "#check the information of paxFrame\n",
    "paxFrame.info()"
   ]
  },
  {
   "cell_type": "code",
   "execution_count": null,
   "metadata": {},
   "outputs": [],
   "source": [
    "#check the information of paxFrameP\n",
    "paxFrameP.info()"
   ]
  },
  {
   "cell_type": "code",
   "execution_count": null,
   "metadata": {},
   "outputs": [],
   "source": [
    "# Check the number of passengers\n",
    "paxFrame['NO_PAX'].sum()"
   ]
  },
  {
   "cell_type": "code",
   "execution_count": null,
   "metadata": {},
   "outputs": [],
   "source": [
    "# Check the number of passengers\n",
    "paxFrameP['NO_PAX'].sum()"
   ]
  },
  {
   "cell_type": "code",
   "execution_count": null,
   "metadata": {
    "scrolled": true
   },
   "outputs": [],
   "source": [
    "# the number of passenger shown above is un realistic becuase of duplicated 'NO_PAX' which is related to menu items\n",
    "# Therefore this code is used to remove duplicated rows\n",
    "paxFrame.drop_duplicates(subset=['FROM_CITY', 'TO_CITY','DBL_DATE','CLASS_CODE','FLT_NO', 'NO_PAX'], inplace=True)"
   ]
  },
  {
   "cell_type": "code",
   "execution_count": null,
   "metadata": {},
   "outputs": [],
   "source": [
    "# the number of passenger shown above is un realistic becuase of duplicated 'NO_PAX' which is related to menu items\n",
    "# Therefore this code is used to remove duplicated rows\n",
    "paxFrameP.drop_duplicates(subset=['FROM_CITY', 'TO_CITY', 'DBL_DATE','CLASS_CODE','FLT_NO', 'NO_PAX'], inplace=True)"
   ]
  },
  {
   "cell_type": "code",
   "execution_count": null,
   "metadata": {},
   "outputs": [],
   "source": [
    "# Check the paxFrame after removing duplicates\n",
    "paxFrame.info()"
   ]
  },
  {
   "cell_type": "code",
   "execution_count": null,
   "metadata": {},
   "outputs": [],
   "source": [
    "# Check the paxFrame after removing duplicates\n",
    "paxFrameP.info()"
   ]
  },
  {
   "cell_type": "markdown",
   "metadata": {},
   "source": [
    "## Number of Passengers:"
   ]
  },
  {
   "cell_type": "markdown",
   "metadata": {},
   "source": [
    "#### Total Number of Passengers:"
   ]
  },
  {
   "cell_type": "code",
   "execution_count": null,
   "metadata": {},
   "outputs": [],
   "source": [
    "paxCountP = paxFrameP['NO_PAX'].sum()\n",
    "print('Total number of passenger for the previous month {:,}'.format(paxCountP))"
   ]
  },
  {
   "cell_type": "code",
   "execution_count": null,
   "metadata": {},
   "outputs": [],
   "source": [
    "paxCount = paxFrame['NO_PAX'].sum()\n",
    "print('Total number of passenger for the current month {:,}'.format(paxCount))"
   ]
  },
  {
   "cell_type": "markdown",
   "metadata": {},
   "source": [
    "##### Number of Passengers per Class for Previous Month:"
   ]
  },
  {
   "cell_type": "code",
   "execution_count": null,
   "metadata": {},
   "outputs": [],
   "source": [
    "fc_count_p = paxFrameP['NO_PAX'][paxFrameP['CLASS_CODE'] == 'FC'].sum()\n",
    "fc_weight_p = fc_count_p/paxCountP\n",
    "print('First class passengers count equals {:,} PAX, and its weight is {}'.format(fc_count_p, np.round(fc_weight_p, 3)))\n",
    "\n",
    "bc_count_p = paxFrameP['NO_PAX'][paxFrameP['CLASS_CODE'] == 'JC'].sum()\n",
    "bc_weight_p = bc_count_p/paxCountP\n",
    "print('Business class passengers count equals {:,} PAX, and its weight is {}'.format(bc_count_p, np.round(bc_weight_p, 2)))\n",
    "\n",
    "yc_count_p = paxFrameP['NO_PAX'][paxFrameP['CLASS_CODE'] == 'YC'].sum()\n",
    "yc_weight_p = yc_count_p/paxCountP\n",
    "print('Economy class passengers count equals {:,} PAX, and its weight is {}'.format(yc_count_p, np.round(yc_weight_p, 2)))"
   ]
  },
  {
   "cell_type": "markdown",
   "metadata": {},
   "source": [
    "##### Number of Passengers per Class for Current Month:"
   ]
  },
  {
   "cell_type": "code",
   "execution_count": null,
   "metadata": {},
   "outputs": [],
   "source": [
    "fc_count = paxFrame['NO_PAX'][paxFrame['CLASS_CODE'] == 'FC'].sum()\n",
    "fc_weight = fc_count/paxCount\n",
    "print('First class passengers count equals {:,} PAX, and its weight is {}'.format(fc_count, np.round(fc_weight, 3)))\n",
    "\n",
    "bc_count = paxFrame['NO_PAX'][paxFrame['CLASS_CODE'] == 'JC'].sum()\n",
    "bc_weight = bc_count/paxCount\n",
    "print('Business class passengers count equals {:,} PAX, and its weight is {}'.format(bc_count, np.round(bc_weight, 2)))\n",
    "\n",
    "yc_count = paxFrame['NO_PAX'][paxFrame['CLASS_CODE'] == 'YC'].sum()\n",
    "yc_weight = yc_count/paxCount\n",
    "print('Economy class passengers count equals {:,} PAX, and its weight is {}'.format(yc_count, np.round(yc_weight, 2)))"
   ]
  },
  {
   "cell_type": "markdown",
   "metadata": {},
   "source": [
    "### Seat Capacity:"
   ]
  },
  {
   "cell_type": "markdown",
   "metadata": {},
   "source": [
    "#### Total Capacity:"
   ]
  },
  {
   "cell_type": "code",
   "execution_count": null,
   "metadata": {},
   "outputs": [],
   "source": [
    "seatCapacityP = paxFrameP['CAPACITY'].sum()\n",
    "print('Total capacity for domestic flights for previous month equals {:,} seat.'.format(seatCapacityP))"
   ]
  },
  {
   "cell_type": "code",
   "execution_count": null,
   "metadata": {},
   "outputs": [],
   "source": [
    "seatCapacity = paxFrame['CAPACITY'].sum()\n",
    "print('Total capacity for domestic flights for current month equals {:,} seat.'.format(seatCapacity))"
   ]
  },
  {
   "cell_type": "markdown",
   "metadata": {},
   "source": [
    "##### Capacity per Class Previous Month:"
   ]
  },
  {
   "cell_type": "code",
   "execution_count": null,
   "metadata": {},
   "outputs": [],
   "source": [
    "fc_capacity_p = paxFrameP['CAPACITY'][paxFrameP['CLASS_CODE'] == 'FC'].sum()\n",
    "print('First class seat capacity equals {:,} seat.'.format(fc_capacity_p))\n",
    "\n",
    "bc_capacity_p  = paxFrameP['CAPACITY'][paxFrameP['CLASS_CODE'] == 'JC'].sum()\n",
    "print('Business class seat capacity equals {:,} seat.'.format(bc_capacity_p))\n",
    "\n",
    "yc_capacity_p  = paxFrameP['CAPACITY'][paxFrameP['CLASS_CODE'] == 'YC'].sum()\n",
    "print('Economy class seat capacity equals {:,} seat.'.format(yc_capacity_p))"
   ]
  },
  {
   "cell_type": "markdown",
   "metadata": {},
   "source": [
    "##### Capacity per Class Current month:"
   ]
  },
  {
   "cell_type": "code",
   "execution_count": null,
   "metadata": {},
   "outputs": [],
   "source": [
    "fc_capacity = paxFrame['CAPACITY'][paxFrame['CLASS_CODE'] == 'FC'].sum()\n",
    "print('First class seat capacity equals {:,} seat.'.format(fc_capacity))\n",
    "\n",
    "bc_capacity  = paxFrame['CAPACITY'][paxFrame['CLASS_CODE'] == 'JC'].sum()\n",
    "print('Business class seat capacity equals {:,} seat.'.format(bc_capacity))\n",
    "\n",
    "yc_capacity  = paxFrame['CAPACITY'][paxFrame['CLASS_CODE'] == 'YC'].sum()\n",
    "print('Economy class seat capacity equals {:,} seat.'.format(yc_capacity))"
   ]
  },
  {
   "cell_type": "markdown",
   "metadata": {},
   "source": [
    "### Load Factor:"
   ]
  },
  {
   "cell_type": "markdown",
   "metadata": {},
   "source": [
    "#### Total Load Factor:"
   ]
  },
  {
   "cell_type": "code",
   "execution_count": null,
   "metadata": {},
   "outputs": [],
   "source": [
    "loadFactor = (paxCountP/seatCapacityP)*100\n",
    "print('domestic flights load factor for previous month {}%'.format(np.round(loadFactor,2)))"
   ]
  },
  {
   "cell_type": "code",
   "execution_count": null,
   "metadata": {
    "scrolled": true
   },
   "outputs": [],
   "source": [
    "loadFactor = (paxCount/seatCapacity)*100\n",
    "print('domestic flights load factor for current month {}%'.format(np.round(loadFactor,2)))"
   ]
  },
  {
   "cell_type": "markdown",
   "metadata": {},
   "source": [
    "##### Load Factor per Class Previous Month:"
   ]
  },
  {
   "cell_type": "code",
   "execution_count": null,
   "metadata": {},
   "outputs": [],
   "source": [
    "fc_lf_p = (fc_count_p/fc_capacity_p)*100\n",
    "print('First class load factor equals {}%'.format(np.round(fc_lf_p, 2)))\n",
    "\n",
    "bc_lf_p = (bc_count_p/bc_capacity_p)*100\n",
    "print('Business class load factor equals {}%'.format(np.round(bc_lf_p, 2)))\n",
    "\n",
    "yc_lf_p  = (yc_count_p/yc_capacity_p)*100\n",
    "print('Economy class load factor equals {}%'.format(np.round(yc_lf_p, 2)))"
   ]
  },
  {
   "cell_type": "markdown",
   "metadata": {},
   "source": [
    "##### Load Factor per Class Current Month:"
   ]
  },
  {
   "cell_type": "code",
   "execution_count": null,
   "metadata": {},
   "outputs": [],
   "source": [
    "fc_lf = (fc_count/fc_capacity)*100\n",
    "print('First class load factor equals {}%'.format(np.round(fc_lf, 2)))\n",
    "\n",
    "bc_lf = (bc_count/bc_capacity)*100\n",
    "print('Business class load factor equals {}%'.format(np.round(bc_lf, 2)))\n",
    "\n",
    "yc_lf  = (yc_count/yc_capacity)*100\n",
    "print('Economy class load factor equals {}%'.format(np.round(yc_lf, 2)))"
   ]
  },
  {
   "cell_type": "markdown",
   "metadata": {},
   "source": [
    "# Expenses:"
   ]
  },
  {
   "cell_type": "markdown",
   "metadata": {},
   "source": [
    "### Total Expenses:"
   ]
  },
  {
   "cell_type": "code",
   "execution_count": null,
   "metadata": {},
   "outputs": [],
   "source": [
    "domExpP = df_p['PRICE'][df_p['TYPE_CODE'] == 'C5'].sum()\n",
    "print('The toal expenses for domestic flights for previous month equals SAR {:,}'.format(domExpP))"
   ]
  },
  {
   "cell_type": "code",
   "execution_count": null,
   "metadata": {},
   "outputs": [],
   "source": [
    "domExp = df['PRICE'][df['TYPE_CODE'] == 'C5'].sum()\n",
    "print('The toal expenses for domestic flights for current month equals SAR {:,}'.format(domExp))"
   ]
  },
  {
   "cell_type": "markdown",
   "metadata": {},
   "source": [
    "##### Handling Charges:"
   ]
  },
  {
   "cell_type": "code",
   "execution_count": null,
   "metadata": {},
   "outputs": [],
   "source": [
    "handlingChargesP = df_p['PRICE'][(df_p['TYPE_CODE'] == 'C5')&(df_p.ITEM_CODE.isin(['#HAH','#HAGG','#HAFF','#HAAM', '#HAAL', '#HAA', '#HAB', '#HAE', '#HAD', '#HAF', '#HAG', '#HAI']))].sum()\n",
    "handlingPerPaxP = handlingChargesP/paxCountP\n",
    "print('The total handling charges for previous month equals to {:,} and handling per pax equals to {}'.format(handlingChargesP, np.round(handlingPerPaxP, 2)))"
   ]
  },
  {
   "cell_type": "code",
   "execution_count": null,
   "metadata": {},
   "outputs": [],
   "source": [
    "handlingCharges = df['PRICE'][(df['TYPE_CODE'] == 'C5')&(df.ITEM_CODE.isin(['#HAAM', '#HAAL', '#HAA', '#HAB', '#HAE', '#HAD', '#HAF', '#HAG', '#HAI']))].sum()\n",
    "handlingPerPax = handlingCharges/paxCount\n",
    "print('The total handling charges for current month equals to {:,} and handling per pax equals to {}'.format(handlingCharges, np.round(handlingPerPax, 2)))"
   ]
  },
  {
   "cell_type": "markdown",
   "metadata": {},
   "source": [
    "##### Expenses per Class for Previous Month:"
   ]
  },
  {
   "cell_type": "code",
   "execution_count": null,
   "metadata": {},
   "outputs": [],
   "source": [
    "fc_exp_p = df_p['PRICE'][(df_p['TYPE_CODE'] == 'C5') & (df_p['CLASS_CODE'] == 'FC')].sum()\n",
    "print('First class expenses equals to SAR {:,}'.format(fc_exp_p))\n",
    "\n",
    "bc_exp_p = df_p['PRICE'][(df_p['TYPE_CODE'] == 'C5') & (df_p['CLASS_CODE'] == 'JC')].sum()\n",
    "print('Bsiness class expenses equals to SAR {:,}'.format(bc_exp_p))\n",
    "\n",
    "yc_exp_p = df_p['PRICE'][(df_p['TYPE_CODE'] == 'C5') & (df_p['CLASS_CODE'] == 'YC')].sum() - handlingChargesP\n",
    "print('Economy class expenses equals to SAR {:,}'.format(yc_exp_p))"
   ]
  },
  {
   "cell_type": "markdown",
   "metadata": {},
   "source": [
    "##### Expenses per Class for Current month:"
   ]
  },
  {
   "cell_type": "code",
   "execution_count": null,
   "metadata": {},
   "outputs": [],
   "source": [
    "fc_exp = df['PRICE'][(df['TYPE_CODE'] == 'C5') & (df['CLASS_CODE'] == 'FC')].sum()\n",
    "print('First class expenses equals to SAR {:,}'.format(fc_exp))\n",
    "\n",
    "bc_exp = df['PRICE'][(df['TYPE_CODE'] == 'C5') & (df['CLASS_CODE'] == 'JC')].sum()\n",
    "print('Bsiness class expenses equals to SAR {:,}'.format(bc_exp))\n",
    "\n",
    "yc_exp = df['PRICE'][(df['TYPE_CODE'] == 'C5') & (df['CLASS_CODE'] == 'YC')].sum() - handlingCharges\n",
    "print('Economy class expenses equals to SAR {:,}'.format(yc_exp))"
   ]
  },
  {
   "cell_type": "markdown",
   "metadata": {},
   "source": [
    "##### Cost per Passenger (CPP) for Previous Month:"
   ]
  },
  {
   "cell_type": "code",
   "execution_count": null,
   "metadata": {},
   "outputs": [],
   "source": [
    "fc_cpp_p = fc_exp_p / fc_count_p\n",
    "fc_cpp_h_p = fc_cpp_p + handlingPerPaxP\n",
    "print('First class meal cpp equals to SAR {} and SAR {} including handling charges.'.format(np.round(fc_cpp_p, 2), np.round(fc_cpp_h_p, 2)))\n",
    "\n",
    "bc_cpp_p = bc_exp_p / bc_count_p\n",
    "bc_cpp_h_p = bc_cpp_p + handlingPerPaxP\n",
    "print('Business class meal cpp equals to SAR {} and SAR {} including handling charges.'.format(np.round(bc_cpp_p, 2), np.round(bc_cpp_h_p, 2)))\n",
    "\n",
    "yc_cpp_p = yc_exp_p / yc_count_p\n",
    "yc_cpp_h_p = yc_cpp_p + handlingPerPaxP\n",
    "print('Economy class meal cpp equals to SAR {} and SAR {} including handling charges.'.format(np.round(yc_cpp_p, 2), np.round(yc_cpp_h_p, 2)))\n",
    "\n",
    "avgCppP = domExpP/paxCountP\n",
    "avgCppNoHacP = avgCppP - handlingPerPaxP\n",
    "print('The average CPP equals SAR {} and average meal CPP equals SAR {} .'.format(np.round(avgCppP,2), np.round(avgCppNoHacP, 2)))"
   ]
  },
  {
   "cell_type": "markdown",
   "metadata": {},
   "source": [
    "##### Cost per Passenger (CPP) for Current Month:"
   ]
  },
  {
   "cell_type": "code",
   "execution_count": null,
   "metadata": {},
   "outputs": [],
   "source": [
    "fc_cpp = fc_exp / fc_count\n",
    "fc_cpp_h = fc_cpp + handlingPerPax\n",
    "print('First class meal cpp equals to SAR {} and SAR {} including handling charges.'.format(np.round(fc_cpp, 2), np.round(fc_cpp_h, 2)))\n",
    "\n",
    "bc_cpp = bc_exp / bc_count\n",
    "bc_cpp_h = bc_cpp + handlingPerPax\n",
    "print('Business class meal cpp equals to SAR {} and SAR {} including handling charges.'.format(np.round(bc_cpp, 2), np.round(bc_cpp_h, 2)))\n",
    "\n",
    "yc_cpp = yc_exp / yc_count\n",
    "yc_cpp_h = yc_cpp + handlingPerPax\n",
    "print('Economy class meal cpp equals to SAR {} and SAR {} including handling charges.'.format(np.round(yc_cpp, 2), np.round(yc_cpp_h, 2)))\n",
    "\n",
    "avgCpp = domExp/paxCount\n",
    "avgCppNoHac = avgCpp - handlingPerPax\n",
    "print('The average CPP equals SAR {} and average meal CPP equals SAR {} .'.format(np.round(avgCpp,2), np.round(avgCppNoHac, 2)))"
   ]
  },
  {
   "cell_type": "markdown",
   "metadata": {},
   "source": [
    "### What are the monthly changes and their impact?"
   ]
  },
  {
   "cell_type": "markdown",
   "metadata": {},
   "source": [
    "### Create Menu Frames by Service:"
   ]
  },
  {
   "cell_type": "code",
   "execution_count": null,
   "metadata": {},
   "outputs": [],
   "source": [
    "# make a copy of the invoice df and df_p\n",
    "df_three = df.copy()\n",
    "df_p_three = df_p.copy()"
   ]
  },
  {
   "cell_type": "markdown",
   "metadata": {},
   "source": [
    "##### Beverage Flights:"
   ]
  },
  {
   "cell_type": "code",
   "execution_count": null,
   "metadata": {},
   "outputs": [],
   "source": [
    "# Define variables for filteration  \n",
    "handling_item_codes =['#HAH','#HAGG','#HAFF','#HAAM', '#HAAL', '#HAA', '#HAB', '#HAE', '#HAD', '#HAF', '#HAG', '#HAI']\n",
    "# Flights that supposed to be beverage but follows meal policy\n",
    "meal_exception = ['RUH-MED-RUH', 'RUH-YNB-RUH', 'RUH-ABT-RUH', 'RUH-BHH-RUH', 'RUH-TIF-RUH' ]\n",
    "# Flights that supposed to be meal but follows beverage policy\n",
    "beverage_exception = ['JED-ELQ-JED', 'JED-HAS-JED', 'JED-EAM-JED', 'JED-WAE-JED', 'JED-GIZ-JED', 'RUH-RAH-RUH' ]\n",
    "# Add route column for comparsion purposes \n",
    "df_three['ROUTE'] = df_three['FROM_CITY'] + '-' + df_three['TO_CITY'] + '-' + df_three['FROM_CITY'] \n",
    "df_p_three['ROUTE'] = df_three['FROM_CITY'] + '-' + df_three['TO_CITY'] + '-' + df_three['FROM_CITY'] "
   ]
  },
  {
   "cell_type": "markdown",
   "metadata": {},
   "source": [
    "#### YC beverage flight impact:"
   ]
  },
  {
   "cell_type": "code",
   "execution_count": null,
   "metadata": {
    "scrolled": false
   },
   "outputs": [],
   "source": [
    "# create beverages data frame for YC\n",
    "bev_frame_yc = df_three[(df_three['Block Time'] <= 89) & (df_three['CLASS_CODE'] == 'YC') & ~(df_three.ITEM_CODE.isin(handling_item_codes)) & ~(df_three.ROUTE.isin(meal_exception)) | (df_three.ROUTE.isin(beverage_exception))]\n",
    "bev_frame_p_yc = df_p_three[(df_p_three['Block Time'] <= 89) & (df_p_three['CLASS_CODE'] == 'YC')& ~(df_p_three.ITEM_CODE.isin(handling_item_codes))  & ~(df_p_three.ROUTE.isin(meal_exception)) | (df_p_three.ROUTE.isin(beverage_exception))]\n",
    "\n",
    "# Remove duplicates rows\n",
    "bev_frame_yc.drop_duplicates(subset='ITEM_CODE', inplace= True)\n",
    "bev_frame_p_yc.drop_duplicates(subset='ITEM_CODE', inplace= True)\n",
    "\n",
    "# drop unneeded columns\n",
    "bev_frame_yc = bev_frame_yc.drop(columns=['CDN_NO', 'DBL_DATE','FLT_NO','ETD', 'FROM_CITY', 'TO_CITY', 'CLASS_CODE', 'CAPACITY', 'NO_PAX', 'PRICE', 'TYPE_CODE', 'Block Time', 'ROUTE'])\n",
    "bev_frame_p_yc = bev_frame_p_yc.drop(columns=['CDN_NO', 'DBL_DATE','FLT_NO','ETD', 'FROM_CITY', 'TO_CITY', 'CLASS_CODE', 'CAPACITY', 'NO_PAX', 'PRICE', 'TYPE_CODE', 'Block Time', 'ROUTE'])\n",
    "\n",
    "# reset the frames indexs\n",
    "bev_frame_p_yc.reset_index(drop=True, inplace=True)\n",
    "bev_frame_yc.reset_index(drop=True, inplace=True)\n",
    "\n",
    "# print previous month dataframe\n",
    "print('Previous month menu:')\n",
    "display(bev_frame_p_yc)\n",
    "# print current month dataframe\n",
    "print('Current month menu:')\n",
    "display(bev_frame_yc)\n",
    "\n",
    "# compare this month's items by last month's items, using the isin() function\n",
    "changes_list = bev_frame_yc[~(bev_frame_yc.isin(bev_frame_p_yc))]\n",
    "# remove empty rows using the dropna() function\n",
    "changes_list.dropna(subset=['ITEM_CODE', 'SPECS_NO'], inplace=True)\n",
    "\n",
    "#Create another frame for the new month to calculate the impact\n",
    "bev_frame_yc_im = df_three[(df_three['Block Time'] <= 89) & (df_three['CLASS_CODE'] == 'YC') & ~(df_three.ITEM_CODE.isin(handling_item_codes))  & ~(df_three.ROUTE.isin(meal_exception)) | (df_three.ROUTE.isin(beverage_exception))]\n",
    "\n",
    "\n",
    "\n",
    "#Get the total cost of each new item\n",
    "changes_list['TOTAL_COST'] = 0 # Add impact column to change_list\n",
    "changes_list['CPP_IMPACT'] = 0 # Add impact column to change_list\n",
    "bev_yc_cost_im = 0  # place holder for total cost impact for each item\n",
    "for x,z in enumerate(changes_list['SPECS_NO']): # loop to get the specs number for new items\n",
    "    for i, y in enumerate(bev_frame_yc_im['PRICE'][bev_frame_yc_im['SPECS_NO'] == z]): #get the impact on each flight and add it to bev_yc_cost_im\n",
    "        bev_yc_cost_im = bev_yc_cost_im + y\n",
    "    # claculate the CPP for the current spec number    \n",
    "    cpp_im = bev_yc_cost_im / paxCount\n",
    "    # Add the total impact for the current spec number\n",
    "    changes_list['TOTAL_COST'].iloc[x] = bev_yc_cost_im\n",
    "    # Add the CPP impact to the current spec number\n",
    "    changes_list['CPP_IMPACT'].iloc[x] = cpp_im\n",
    "    # rest place holders to zero\n",
    "    cpp_im = 0\n",
    "    bev_yc_cost_im = 0\n",
    "\n",
    "if changes_list['TOTAL_COST'].sum() > 0:\n",
    "    print('The following is the impact breakdown:')\n",
    "    display(changes_list)\n",
    "    print('Total cost impact on beverage flights economy equals SAR {:,} and its impact on CPP equals SAR {:,}'.format(changes_list['TOTAL_COST'].sum(), changes_list['CPP_IMPACT'].sum()))\n",
    "else:\n",
    "    print('No changes observed')"
   ]
  },
  {
   "cell_type": "markdown",
   "metadata": {},
   "source": [
    "##### BC beverage flight impact:"
   ]
  },
  {
   "cell_type": "code",
   "execution_count": null,
   "metadata": {
    "scrolled": false
   },
   "outputs": [],
   "source": [
    "# create beverages data frame for BC\n",
    "bev_frame_bc = df_three[(df_three['Block Time'] <= 89) & (df_three['CLASS_CODE'] == 'JC') & (df_three.ROUTE.isin(beverage_exception)) & ~(df_three.ROUTE.isin(meal_exception))]\n",
    "bev_frame_p_bc = df_p_three[(df_p_three['Block Time'] <= 89) & (df_p_three['CLASS_CODE'] == 'JC') & (df_three.ROUTE.isin(beverage_exception)) & ~(df_three.ROUTE.isin(meal_exception))]\n",
    "\n",
    "# Remove duplicates rows\n",
    "bev_frame_bc.drop_duplicates(subset='ITEM_CODE', inplace= True)\n",
    "bev_frame_p_bc.drop_duplicates(subset='ITEM_CODE', inplace= True)\n",
    "\n",
    "# drop unneeded columns\n",
    "bev_frame_bc = bev_frame_bc.drop(columns=['CDN_NO', 'DBL_DATE','FLT_NO','ETD', 'FROM_CITY', 'TO_CITY', 'CLASS_CODE', 'CAPACITY', 'NO_PAX', 'PRICE', 'TYPE_CODE', 'Block Time', 'ROUTE'])\n",
    "bev_frame_p_bc = bev_frame_p_bc.drop(columns=['CDN_NO', 'DBL_DATE','FLT_NO','ETD', 'FROM_CITY', 'TO_CITY', 'CLASS_CODE', 'CAPACITY', 'NO_PAX', 'PRICE', 'TYPE_CODE', 'Block Time', 'ROUTE'])\n",
    "\n",
    "# reset the frames indexs\n",
    "bev_frame_p_bc.reset_index(drop=True, inplace=True)\n",
    "bev_frame_bc.reset_index(drop=True, inplace=True)\n",
    "\n",
    "\n",
    "# print previous month dataframe\n",
    "print('Previous month menu:')\n",
    "display(bev_frame_p_bc)\n",
    "\n",
    "# print current month dataframe\n",
    "print('Current month menu:')\n",
    "display(bev_frame_bc)\n",
    "\n",
    "# compare this month's items by last month's items, using the isin() function\n",
    "changes_list_bb = bev_frame_bc[~(bev_frame_bc.isin(bev_frame_p_bc))]\n",
    "# remove empty rows using the dropna() function\n",
    "changes_list_bb.dropna(subset=['ITEM_CODE', 'SPECS_NO'], inplace=True)\n",
    "\n",
    "#Create another frame for the new month to calculate the impact\n",
    "bev_frame_bc_im = df_three[(df_three['Block Time'] <= 89) & (df_three['CLASS_CODE'] == 'JC') & (df_three.ROUTE.isin(beverage_exception)) & ~(df_three.ROUTE.isin(meal_exception))]\n",
    "\n",
    "#Get the total cost of each new item\n",
    "changes_list_bb['TOTAL_COST'] = 0 # Add impact column to change_list\n",
    "changes_list_bb['CPP_IMPACT'] = 0 # Add impact column to change_list\n",
    "bev_bc_cost_im = 0  # place holder for total cost impact for each item\n",
    "for x,z in enumerate(changes_list_bb['SPECS_NO']): # loop to get the specs number for new items\n",
    "    for i, y in enumerate(bev_frame_bc_im['PRICE'][bev_frame_bc_im['SPECS_NO'] == z]): #get the impact on each flight and add it to bev_yc_cost_im\n",
    "        bev_bc_cost_im = bev_bc_cost_im + y\n",
    "    # claculate the CPP for the current spec number    \n",
    "    cpp_im = bev_bc_cost_im / paxCount\n",
    "    # Add the total impact for the current spec number\n",
    "    changes_list_bb['TOTAL_COST'].iloc[x] = bev_bc_cost_im\n",
    "    # Add the CPP impact to the current spec number\n",
    "    changes_list_bb['CPP_IMPACT'].iloc[x] = cpp_im\n",
    "    # rest place holders to zero\n",
    "    cpp_im = 0\n",
    "    bev_bc_cost_im = 0\n",
    "\n",
    "\n",
    "if changes_list_bb['TOTAL_COST'].sum() > 0:\n",
    "    print('The following is the impact breakdown:')\n",
    "    display(changes_list_bb)\n",
    "    print('Total cost impact on beverage flights business equals SAR {:,} and its impact on CPP equals SAR {:,}'.format(changes_list_bb['TOTAL_COST'].sum(), changes_list_bb['CPP_IMPACT'].sum()))\n",
    "else:\n",
    "    print('No changes observed')"
   ]
  },
  {
   "cell_type": "markdown",
   "metadata": {},
   "source": [
    "#### YC meal flights impact:"
   ]
  },
  {
   "cell_type": "code",
   "execution_count": null,
   "metadata": {
    "scrolled": false
   },
   "outputs": [],
   "source": [
    "# create meals data frame for YC\n",
    "meal_frame_yc = df_three[((df_three['Block Time'] > 89) & (df_three['CLASS_CODE'] == 'YC') & ~(df_three.ITEM_CODE.isin(handling_item_codes)) & ~(df_three.ROUTE.isin(beverage_exception))) | ((df_three.ROUTE.isin(meal_exception)) & (df_three['CLASS_CODE'] == 'YC') & ~(df_three.ITEM_CODE.isin(handling_item_codes)))]\n",
    "meal_frame_p_yc = df_p_three[((df_p_three['Block Time'] > 89) & (df_p_three['CLASS_CODE'] == 'YC') & ~(df_p_three.ITEM_CODE.isin(handling_item_codes)) & ~(df_p_three.ROUTE.isin(beverage_exception))) | ((df_p_three.ROUTE.isin(meal_exception)) & (df_p_three['CLASS_CODE'] == 'YC') & ~(df_p_three.ITEM_CODE.isin(handling_item_codes)))]\n",
    "\n",
    "# Remove duplicates rows\n",
    "meal_frame_yc.drop_duplicates(subset='ITEM_CODE', inplace= True)\n",
    "meal_frame_p_yc.drop_duplicates(subset='ITEM_CODE', inplace= True)\n",
    "\n",
    "# drop unneeded columns\n",
    "meal_frame_yc = meal_frame_yc.drop(columns=['CDN_NO', 'DBL_DATE','FLT_NO','ETD', 'FROM_CITY', 'TO_CITY', 'CLASS_CODE', 'CAPACITY', 'NO_PAX', 'PRICE', 'TYPE_CODE', 'Block Time', 'ROUTE'])\n",
    "meal_frame_p_yc = meal_frame_p_yc.drop(columns=['CDN_NO', 'DBL_DATE','FLT_NO','ETD', 'FROM_CITY', 'TO_CITY', 'CLASS_CODE', 'CAPACITY', 'NO_PAX', 'PRICE', 'TYPE_CODE', 'Block Time', 'ROUTE'])\n",
    "\n",
    "# reset the frames indexs\n",
    "meal_frame_p_yc.reset_index(drop=True, inplace=True)\n",
    "meal_frame_yc.reset_index(drop=True, inplace=True)\n",
    "\n",
    "# sort menu\n",
    "#meal_frame_p_yc.sort_values(by='ITEM_DESCRIPTION', inplace=True)\n",
    "#meal_frame_yc.sort_values(by='ITEM_DESCRIPTION', inplace=True)\n",
    "\n",
    "# print previous month dataframe\n",
    "print('Previous month menu:')\n",
    "display(meal_frame_p_yc)\n",
    "\n",
    "# print current month dataframe\n",
    "print('Current month menu:')\n",
    "display(meal_frame_yc)\n",
    "\n",
    "# compare this month's items by last month's items, using the isin() function\n",
    "changes_list_ym = meal_frame_yc[~(meal_frame_yc['SPECS_NO'].isin(meal_frame_p_yc['SPECS_NO']))]\n",
    "# remove empty rows using the dropna() function\n",
    "changes_list_ym.dropna(subset=['ITEM_CODE', 'SPECS_NO'], inplace=True)\n",
    "\n",
    "#Create another frame for the new month to calculate the impact\n",
    "meal_frame_yc_im = df_three[((df_three['Block Time'] > 89) & (df_three['CLASS_CODE'] == 'YC') & ~(df_three.ITEM_CODE.isin(handling_item_codes)) & ~(df_three.ROUTE.isin(beverage_exception))) | ((df_three.ROUTE.isin(meal_exception)) & (df_three['CLASS_CODE'] == 'YC') & ~(df_three.ITEM_CODE.isin(handling_item_codes)))]\n",
    "\n",
    "#Get the total cost of each new item\n",
    "changes_list_ym['TOTAL_COST'] = 0 # Add impact column to change_list\n",
    "changes_list_ym['CPP_IMPACT'] = 0 # Add impact column to change_list\n",
    "meal_yc_cost_im = 0  # place holder for total cost impact for each item\n",
    "for x,z in enumerate(changes_list_ym['SPECS_NO']): # loop to get the specs number for new items\n",
    "    for i, y in enumerate(meal_frame_yc_im['PRICE'][meal_frame_yc_im['SPECS_NO'] == z]): #get the impact on each flight and add it to bev_yc_cost_im\n",
    "        meal_yc_cost_im = meal_yc_cost_im + y\n",
    "    # claculate the CPP for the current spec number    \n",
    "    cpp_im = meal_yc_cost_im / paxCount\n",
    "    # Add the total impact for the current spec number\n",
    "    changes_list_ym['TOTAL_COST'].iloc[x] = meal_yc_cost_im\n",
    "    # Add the CPP impact to the current spec number\n",
    "    changes_list_ym['CPP_IMPACT'].iloc[x] = cpp_im\n",
    "    # rest place holders to zero\n",
    "    cpp_im = 0\n",
    "    bev_bc_cost_im = 0\n",
    "\n",
    "\n",
    "if changes_list_ym['TOTAL_COST'].sum() > 0:\n",
    "    print('The following is the impact breakdown:')\n",
    "    display(changes_list_ym)\n",
    "    print('Total cost impact on meal flights economy equals SAR {:,} and its impact on CPP equals SAR {:,}'.format(changes_list_ym['TOTAL_COST'].sum(), changes_list_ym['CPP_IMPACT'].sum()))\n",
    "else:\n",
    "    print('No changes observed')"
   ]
  },
  {
   "cell_type": "markdown",
   "metadata": {},
   "source": [
    "#### BC meal flights impact:"
   ]
  },
  {
   "cell_type": "code",
   "execution_count": null,
   "metadata": {
    "scrolled": false
   },
   "outputs": [],
   "source": [
    "# create meals data frame for BC\n",
    "meal_frame_bc = df_three[(df_three['Block Time'] > 89) & (df_three['CLASS_CODE'] == 'JC') & ~(df_three.ROUTE.isin(beverage_exception)) & (df_three.ROUTE.isin(meal_exception))]\n",
    "meal_frame_p_bc = df_p_three[(df_p_three['Block Time'] > 89) & (df_p_three['CLASS_CODE'] == 'JC') & ~(df_p_three.ROUTE.isin(beverage_exception)) & (df_p_three.ROUTE.isin(meal_exception))]\n",
    "\n",
    "# Remove duplicates rows\n",
    "meal_frame_bc.drop_duplicates(subset='ITEM_CODE', inplace= True)\n",
    "meal_frame_p_bc.drop_duplicates(subset='ITEM_CODE', inplace= True)\n",
    "\n",
    "# drop unneeded columns\n",
    "meal_frame_bc = meal_frame_bc.drop(columns=['CDN_NO', 'DBL_DATE','FLT_NO','ETD', 'FROM_CITY', 'TO_CITY', 'CLASS_CODE', 'CAPACITY', 'NO_PAX', 'PRICE', 'TYPE_CODE', 'Block Time', 'ROUTE'])\n",
    "meal_frame_p_bc = meal_frame_p_bc.drop(columns=['CDN_NO', 'DBL_DATE','FLT_NO','ETD', 'FROM_CITY', 'TO_CITY', 'CLASS_CODE', 'CAPACITY', 'NO_PAX', 'PRICE', 'TYPE_CODE', 'Block Time', 'ROUTE'])\n",
    "\n",
    "# reset the frames indexs\n",
    "meal_frame_p_bc.reset_index(drop=True, inplace=True)\n",
    "meal_frame_bc.reset_index(drop=True, inplace=True)\n",
    "\n",
    "\n",
    "# print previous month dataframe\n",
    "print('Previous month menu:')\n",
    "display(meal_frame_p_bc)\n",
    "\n",
    "# print current month dataframe\n",
    "print('Current month menu:')\n",
    "display(meal_frame_bc)\n",
    "\n",
    "# compare this month's items by last month's items, using the isin() function\n",
    "changes_list_bm = meal_frame_bc[~(meal_frame_bc.isin(meal_frame_p_bc))]\n",
    "# remove empty rows using the dropna() function\n",
    "changes_list_bm.dropna(subset=['ITEM_CODE', 'SPECS_NO'], inplace=True)\n",
    "\n",
    "#Create another frame for the new month to calculate the impact\n",
    "meal_frame_bc_im = df_three[(df_three['Block Time'] > 89) & (df_three['CLASS_CODE'] == 'JC') & ~(df_three.ROUTE.isin(beverage_exception)) & (df_three.ROUTE.isin(meal_exception))]\n",
    "\n",
    "#Get the total cost of each new item\n",
    "changes_list_bm['TOTAL_COST'] = 0 # Add impact column to change_list\n",
    "changes_list_bm['CPP_IMPACT'] = 0 # Add impact column to change_list\n",
    "meal_bc_cost_im = 0  # place holder for total cost impact for each item\n",
    "for x,z in enumerate(changes_list_bm['SPECS_NO']): # loop to get the specs number for new items\n",
    "    for i, y in enumerate(meal_frame_bc_im['PRICE'][meal_frame_bc_im['SPECS_NO'] == z]): #get the impact on each flight and add it to bev_yc_cost_im\n",
    "        meal_bc_cost_im = meal_bc_cost_im + y\n",
    "    # claculate the CPP for the current spec number    \n",
    "    cpp_im = meal_bc_cost_im / paxCount\n",
    "    # Add the total impact for the current spec number\n",
    "    changes_list_bm['TOTAL_COST'].iloc[x] = meal_bc_cost_im\n",
    "    # Add the CPP impact to the current spec number\n",
    "    changes_list_bm['CPP_IMPACT'].iloc[x] = cpp_im\n",
    "    # rest place holders to zero\n",
    "    cpp_im = 0\n",
    "    meal_bc_cost_im = 0\n",
    "\n",
    "\n",
    "if changes_list_bm['TOTAL_COST'].sum() > 0:\n",
    "    print('The following is the impact breakdown:')\n",
    "    display(changes_list_bm)\n",
    "    print('Total cost impact on meal flights Business class equals SAR {:,} and its impact on CPP equals SAR {:,}'.format(changes_list_bm['TOTAL_COST'].sum(), changes_list_bm['CPP_IMPACT'].sum()))\n",
    "else:\n",
    "    print('No changes observed')"
   ]
  },
  {
   "cell_type": "code",
   "execution_count": null,
   "metadata": {},
   "outputs": [],
   "source": [
    "summerSchedule[(summerSchedule['FROM_CITY'] == 'JED') & (summerSchedule['TO_CITY'] == 'RUH')]"
   ]
  },
  {
   "cell_type": "markdown",
   "metadata": {},
   "source": [
    "### TOP5 YC menu"
   ]
  },
  {
   "cell_type": "code",
   "execution_count": null,
   "metadata": {},
   "outputs": [],
   "source": [
    "df[(df['FROM_CITY'] == 'JED') & (df['TO_CITY'] == 'RUH') & (df['CLASS_CODE'] == 'YC') & (df['FLT_NO'] == '1052') & (df['DBL_DATE'] == '2021-03-12')]"
   ]
  },
  {
   "cell_type": "code",
   "execution_count": null,
   "metadata": {},
   "outputs": [],
   "source": [
    "x = df_three[((df_three['Block Time'] > 89) & (df_three['CLASS_CODE'] == 'YC') & ~(df_three.ITEM_CODE.isin(handling_item_codes)) & ~(df_three.ROUTE.isin(beverage_exception))) | ((df_three.ROUTE.isin(meal_exception)) & (df_three['CLASS_CODE'] == 'YC') & ~(df_three.ITEM_CODE.isin(handling_item_codes)))]"
   ]
  },
  {
   "cell_type": "code",
   "execution_count": null,
   "metadata": {
    "scrolled": true
   },
   "outputs": [],
   "source": [
    "x['ROUTE'].unique()"
   ]
  },
  {
   "cell_type": "code",
   "execution_count": null,
   "metadata": {},
   "outputs": [],
   "source": [
    "x['CLASS_CODE'].unique()"
   ]
  },
  {
   "cell_type": "code",
   "execution_count": null,
   "metadata": {},
   "outputs": [],
   "source": [
    "y = df_three[(df_three['Block Time'] <= 89) & (df_three['CLASS_CODE'] == 'YC')]\n",
    "y = y[~(y.ITEM_CODE.isin(handling_item_codes))]\n",
    "y = y[(y.ROUTE.isin(beverage_exception)) | ~(y.ROUTE.isin(meal_exception))]"
   ]
  },
  {
   "cell_type": "code",
   "execution_count": null,
   "metadata": {},
   "outputs": [],
   "source": [
    "y['CLASS_CODE'].unique()"
   ]
  },
  {
   "cell_type": "code",
   "execution_count": null,
   "metadata": {},
   "outputs": [],
   "source": [
    "meal_exception = ['RUH-MED-RUH', 'RUH-YNB-RUH', 'RUH-ABT-RUH', 'RUH-BHH-RUH', 'RUH-TIF-RUH' ]\n",
    "# Flights that supposed to be meal but follows beverage policy\n",
    "beverage_exception = ['JED-ELQ-JED', 'JED-HAS-JED', 'JED-EAM-JED', 'JED-WAE-JED', 'JED-GIZ-JED', 'RUH-RAH-RUH' ]"
   ]
  }
 ],
 "metadata": {
  "kernelspec": {
   "display_name": "Python 3",
   "language": "python",
   "name": "python3"
  },
  "language_info": {
   "codemirror_mode": {
    "name": "ipython",
    "version": 3
   },
   "file_extension": ".py",
   "mimetype": "text/x-python",
   "name": "python",
   "nbconvert_exporter": "python",
   "pygments_lexer": "ipython3",
   "version": "3.8.5"
  }
 },
 "nbformat": 4,
 "nbformat_minor": 4
}
